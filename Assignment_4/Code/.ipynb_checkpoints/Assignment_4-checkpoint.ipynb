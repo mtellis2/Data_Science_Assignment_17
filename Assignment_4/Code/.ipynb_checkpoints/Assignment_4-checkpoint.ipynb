{
 "cells": [
  {
   "cell_type": "markdown",
   "metadata": {},
   "source": [
    "# Assignment 4\n",
    "## Statistics Assignment\n",
    "\n",
    "All of the following are based on data from your project. Each student has to perform analysis on their own no collaboration between team members. Here are the datasets to be analyzed by team datasets:\n",
    "\n",
    "***\n",
    "### ***For Part 1 and 2***\n",
    "\n",
    "##### Library-Computer-Usage-Analysis\n",
    "* Computer Utilization Data by Date-Time\n",
    "\n",
    "\n",
    "### Part 1\n",
    "\n",
    "* **Conduct Decriptive Analytics (Mean, Median, Quartile) calculation by each division of Date-Time (most probably year or 6 month duration, if you have shorter use 1 month)**\n",
    "* **Calculate divergence of mean and median in your data**\n",
    "* **Visualize the data and draw inferences**\n",
    "\n",
    "### Part 2\n",
    "* **Conduct Probablity distibution analysis based on the data. Analyze your data based on the type of distribution it best fits (for PDF and CDF)**\n",
    "* **Conduct Method of Moments analysis on your data to suggest the best fit distribution. Visualize the results**\n",
    "\n",
    "***\n",
    "***\n",
    "\n",
    "### ***For Part 3***\n",
    "* Compare the variable with other variables in your project\n",
    "\n",
    "### Part 3\n",
    "* **Formulate a null hypothesis and evaluate it, perform correlation measures, and construct a linear regression model**\n",
    "\n",
    "***"
   ]
  },
  {
   "cell_type": "markdown",
   "metadata": {},
   "source": [
    "#### Pulling the data from the project repository"
   ]
  },
  {
   "cell_type": "code",
   "execution_count": 75,
   "metadata": {
    "collapsed": true
   },
   "outputs": [],
   "source": [
    "import numpy as np\n",
    "import pandas as pd\n",
    "import matplotlib as mpl\n",
    "import matplotlib.pyplot as plt\n",
    "import sys\n",
    "sys.path.append('/Users/moyockmike/Envs/CSC693/Library-Computer-Usage-Analysis/src')\n",
    "import LibDataImport\n",
    "import cPickle\n",
    "import os.path\n",
    "import random\n",
    "import math\n",
    "import scipy.stats as stats"
   ]
  },
  {
   "cell_type": "markdown",
   "metadata": {},
   "source": [
    "#### Load the Library data"
   ]
  },
  {
   "cell_type": "code",
   "execution_count": 76,
   "metadata": {
    "collapsed": true
   },
   "outputs": [],
   "source": [
    "pkl = open(os.path.join('..', '..', '..', 'Library-Computer-Usage-Analysis', 'data', 'LibData.pkl'), 'rb')\n",
    "utilization = cPickle.load(pkl)\n",
    "pkl.close()"
   ]
  },
  {
   "cell_type": "markdown",
   "metadata": {},
   "source": [
    "#### I want to look at the data for the school semesters during years 2012-2013 "
   ]
  },
  {
   "cell_type": "code",
   "execution_count": 77,
   "metadata": {
    "collapsed": true
   },
   "outputs": [],
   "source": [
    "utilization = utilization.apply(lambda x: x * 100.0)"
   ]
  },
  {
   "cell_type": "code",
   "execution_count": 78,
   "metadata": {
    "collapsed": true
   },
   "outputs": [],
   "source": [
    "fall2011 = utilization[(utilization.index >= '2011-08-15') & (utilization.index < '2011-12-15')]\n",
    "spring2012 = utilization[(utilization.index >= '2012-01-09') & (utilization.index < '2012-05-04')]\n",
    "fall2012 = utilization[(utilization.index >= '2012-08-13') & (utilization.index < '2012-12-13')]\n",
    "spring2013 = utilization[(utilization.index >= '2013-01-14') & (utilization.index < '2013-05-10')]\n",
    "fall2013 = utilization[(utilization.index >= '2013-08-12') & (utilization.index < '2013-12-13')]"
   ]
  },
  {
   "cell_type": "code",
   "execution_count": 79,
   "metadata": {
    "collapsed": true
   },
   "outputs": [],
   "source": [
    "fall11 = fall2011.mean(axis=0)\n",
    "spring12 = spring2012.mean(axis=0)\n",
    "fall12 = fall2012.mean(axis=0)\n",
    "spring13 = spring2013.mean(axis=0)\n",
    "fall13 = fall2013.mean(axis=0)\n",
    "\n",
    "meanSem = pd.concat([pd.DataFrame(fall11), pd.DataFrame(spring12), pd.DataFrame(fall12), pd.DataFrame(spring13), pd.DataFrame(fall13)], axis=1)\n",
    "meanSem.columns = ['fall11', 'spring12', 'fall12', 'spring13', 'fall13']"
   ]
  },
  {
   "cell_type": "code",
   "execution_count": 80,
   "metadata": {
    "collapsed": true
   },
   "outputs": [],
   "source": [
    "FALL11 = fall2011.median(axis=0)\n",
    "SPRING12 = spring2012.median(axis=0)\n",
    "FALL12 = fall2012.median(axis=0)\n",
    "SPRING13 = spring2013.median(axis=0)\n",
    "FALL13 = fall2013.median(axis=0)\n",
    "\n",
    "medSem = pd.concat([pd.DataFrame(FALL11), pd.DataFrame(SPRING12), pd.DataFrame(FALL12), pd.DataFrame(SPRING13), pd.DataFrame(FALL13)], axis=1)\n",
    "medSem.columns = ['fall11', 'spring12', 'fall12', 'spring13', 'fall13']"
   ]
  },
  {
   "cell_type": "markdown",
   "metadata": {},
   "source": [
    "#### Semester Descriptive Analytics"
   ]
  },
  {
   "cell_type": "code",
   "execution_count": 81,
   "metadata": {},
   "outputs": [
    {
     "data": {
      "text/html": [
       "<div>\n",
       "<style scoped>\n",
       "    .dataframe tbody tr th:only-of-type {\n",
       "        vertical-align: middle;\n",
       "    }\n",
       "\n",
       "    .dataframe tbody tr th {\n",
       "        vertical-align: top;\n",
       "    }\n",
       "\n",
       "    .dataframe thead th {\n",
       "        text-align: right;\n",
       "    }\n",
       "</style>\n",
       "<table border=\"1\" class=\"dataframe\">\n",
       "  <thead>\n",
       "    <tr style=\"text-align: right;\">\n",
       "      <th></th>\n",
       "      <th>fall11</th>\n",
       "      <th>spring12</th>\n",
       "      <th>fall12</th>\n",
       "      <th>spring13</th>\n",
       "      <th>fall13</th>\n",
       "    </tr>\n",
       "  </thead>\n",
       "  <tbody>\n",
       "    <tr>\n",
       "      <th>count</th>\n",
       "      <td>312.000000</td>\n",
       "      <td>312.000000</td>\n",
       "      <td>312.000000</td>\n",
       "      <td>312.000000</td>\n",
       "      <td>312.000000</td>\n",
       "    </tr>\n",
       "    <tr>\n",
       "      <th>mean</th>\n",
       "      <td>2.221784</td>\n",
       "      <td>1.711422</td>\n",
       "      <td>13.645021</td>\n",
       "      <td>14.816492</td>\n",
       "      <td>14.671523</td>\n",
       "    </tr>\n",
       "    <tr>\n",
       "      <th>std</th>\n",
       "      <td>11.875893</td>\n",
       "      <td>11.608761</td>\n",
       "      <td>22.346628</td>\n",
       "      <td>22.438712</td>\n",
       "      <td>22.038787</td>\n",
       "    </tr>\n",
       "    <tr>\n",
       "      <th>min</th>\n",
       "      <td>0.000000</td>\n",
       "      <td>0.000000</td>\n",
       "      <td>0.000000</td>\n",
       "      <td>0.000000</td>\n",
       "      <td>0.000000</td>\n",
       "    </tr>\n",
       "    <tr>\n",
       "      <th>25%</th>\n",
       "      <td>0.000000</td>\n",
       "      <td>0.000000</td>\n",
       "      <td>0.000000</td>\n",
       "      <td>0.000000</td>\n",
       "      <td>0.000000</td>\n",
       "    </tr>\n",
       "    <tr>\n",
       "      <th>50%</th>\n",
       "      <td>0.000000</td>\n",
       "      <td>0.000000</td>\n",
       "      <td>0.000000</td>\n",
       "      <td>0.000000</td>\n",
       "      <td>0.000000</td>\n",
       "    </tr>\n",
       "    <tr>\n",
       "      <th>75%</th>\n",
       "      <td>0.000000</td>\n",
       "      <td>0.000000</td>\n",
       "      <td>20.277465</td>\n",
       "      <td>24.083565</td>\n",
       "      <td>23.923721</td>\n",
       "    </tr>\n",
       "    <tr>\n",
       "      <th>max</th>\n",
       "      <td>100.000000</td>\n",
       "      <td>100.000000</td>\n",
       "      <td>99.979285</td>\n",
       "      <td>99.977733</td>\n",
       "      <td>99.998671</td>\n",
       "    </tr>\n",
       "  </tbody>\n",
       "</table>\n",
       "</div>"
      ],
      "text/plain": [
       "           fall11    spring12      fall12    spring13      fall13\n",
       "count  312.000000  312.000000  312.000000  312.000000  312.000000\n",
       "mean     2.221784    1.711422   13.645021   14.816492   14.671523\n",
       "std     11.875893   11.608761   22.346628   22.438712   22.038787\n",
       "min      0.000000    0.000000    0.000000    0.000000    0.000000\n",
       "25%      0.000000    0.000000    0.000000    0.000000    0.000000\n",
       "50%      0.000000    0.000000    0.000000    0.000000    0.000000\n",
       "75%      0.000000    0.000000   20.277465   24.083565   23.923721\n",
       "max    100.000000  100.000000   99.979285   99.977733   99.998671"
      ]
     },
     "execution_count": 81,
     "metadata": {},
     "output_type": "execute_result"
    }
   ],
   "source": [
    "meanSem.describe()"
   ]
  },
  {
   "cell_type": "code",
   "execution_count": 82,
   "metadata": {},
   "outputs": [
    {
     "data": {
      "text/html": [
       "<div>\n",
       "<style scoped>\n",
       "    .dataframe tbody tr th:only-of-type {\n",
       "        vertical-align: middle;\n",
       "    }\n",
       "\n",
       "    .dataframe tbody tr th {\n",
       "        vertical-align: top;\n",
       "    }\n",
       "\n",
       "    .dataframe thead th {\n",
       "        text-align: right;\n",
       "    }\n",
       "</style>\n",
       "<table border=\"1\" class=\"dataframe\">\n",
       "  <thead>\n",
       "    <tr style=\"text-align: right;\">\n",
       "      <th></th>\n",
       "      <th>fall11</th>\n",
       "      <th>spring12</th>\n",
       "      <th>fall12</th>\n",
       "      <th>spring13</th>\n",
       "      <th>fall13</th>\n",
       "    </tr>\n",
       "  </thead>\n",
       "  <tbody>\n",
       "    <tr>\n",
       "      <th>count</th>\n",
       "      <td>312.000000</td>\n",
       "      <td>312.000000</td>\n",
       "      <td>312.000000</td>\n",
       "      <td>312.000000</td>\n",
       "      <td>312.000000</td>\n",
       "    </tr>\n",
       "    <tr>\n",
       "      <th>mean</th>\n",
       "      <td>1.282051</td>\n",
       "      <td>1.282051</td>\n",
       "      <td>5.992370</td>\n",
       "      <td>5.985753</td>\n",
       "      <td>5.763985</td>\n",
       "    </tr>\n",
       "    <tr>\n",
       "      <th>std</th>\n",
       "      <td>11.268027</td>\n",
       "      <td>11.268027</td>\n",
       "      <td>22.236716</td>\n",
       "      <td>21.854614</td>\n",
       "      <td>21.648058</td>\n",
       "    </tr>\n",
       "    <tr>\n",
       "      <th>min</th>\n",
       "      <td>0.000000</td>\n",
       "      <td>0.000000</td>\n",
       "      <td>0.000000</td>\n",
       "      <td>0.000000</td>\n",
       "      <td>0.000000</td>\n",
       "    </tr>\n",
       "    <tr>\n",
       "      <th>25%</th>\n",
       "      <td>0.000000</td>\n",
       "      <td>0.000000</td>\n",
       "      <td>0.000000</td>\n",
       "      <td>0.000000</td>\n",
       "      <td>0.000000</td>\n",
       "    </tr>\n",
       "    <tr>\n",
       "      <th>50%</th>\n",
       "      <td>0.000000</td>\n",
       "      <td>0.000000</td>\n",
       "      <td>0.000000</td>\n",
       "      <td>0.000000</td>\n",
       "      <td>0.000000</td>\n",
       "    </tr>\n",
       "    <tr>\n",
       "      <th>75%</th>\n",
       "      <td>0.000000</td>\n",
       "      <td>0.000000</td>\n",
       "      <td>0.000000</td>\n",
       "      <td>0.000000</td>\n",
       "      <td>0.000000</td>\n",
       "    </tr>\n",
       "    <tr>\n",
       "      <th>max</th>\n",
       "      <td>100.000000</td>\n",
       "      <td>100.000000</td>\n",
       "      <td>100.000000</td>\n",
       "      <td>100.000000</td>\n",
       "      <td>100.000000</td>\n",
       "    </tr>\n",
       "  </tbody>\n",
       "</table>\n",
       "</div>"
      ],
      "text/plain": [
       "           fall11    spring12      fall12    spring13      fall13\n",
       "count  312.000000  312.000000  312.000000  312.000000  312.000000\n",
       "mean     1.282051    1.282051    5.992370    5.985753    5.763985\n",
       "std     11.268027   11.268027   22.236716   21.854614   21.648058\n",
       "min      0.000000    0.000000    0.000000    0.000000    0.000000\n",
       "25%      0.000000    0.000000    0.000000    0.000000    0.000000\n",
       "50%      0.000000    0.000000    0.000000    0.000000    0.000000\n",
       "75%      0.000000    0.000000    0.000000    0.000000    0.000000\n",
       "max    100.000000  100.000000  100.000000  100.000000  100.000000"
      ]
     },
     "execution_count": 82,
     "metadata": {},
     "output_type": "execute_result"
    }
   ],
   "source": [
    "medSem.describe()"
   ]
  },
  {
   "cell_type": "code",
   "execution_count": 83,
   "metadata": {},
   "outputs": [
    {
     "data": {
      "text/plain": [
       "fall11      141.036832\n",
       "spring12    134.763338\n",
       "fall12      499.371778\n",
       "spring13    503.495793\n",
       "fall13      485.708126\n",
       "dtype: float64"
      ]
     },
     "execution_count": 83,
     "metadata": {},
     "output_type": "execute_result"
    }
   ],
   "source": [
    "meanSem.var()"
   ]
  },
  {
   "cell_type": "code",
   "execution_count": 84,
   "metadata": {},
   "outputs": [
    {
     "data": {
      "text/plain": [
       "fall11      11.875893\n",
       "spring12    11.608761\n",
       "fall12      22.346628\n",
       "spring13    22.438712\n",
       "fall13      22.038787\n",
       "dtype: float64"
      ]
     },
     "execution_count": 84,
     "metadata": {},
     "output_type": "execute_result"
    }
   ],
   "source": [
    "meanSem.std()"
   ]
  },
  {
   "cell_type": "code",
   "execution_count": 139,
   "metadata": {},
   "outputs": [
    {
     "data": {
      "image/png": "[encoded data removed]",
      "text/plain": [
       "<matplotlib.figure.Figure at 0x108be8110>"
      ]
     },
     "metadata": {},
     "output_type": "display_data"
    },
    {
     "data": {
      "image/png": "[encoded data removed]",
      "text/plain": [
       "<matplotlib.figure.Figure at 0x10cdf3c50>"
      ]
     },
     "metadata": {},
     "output_type": "display_data"
    },
    {
     "data": {
      "image/png": "[encoded data removed]",
      "text/plain": [
       "<matplotlib.figure.Figure at 0x109a0e290>"
      ]
     },
     "metadata": {},
     "output_type": "display_data"
    },
    {
     "data": {
      "image/png": "[encoded data removed]",
      "text/plain": [
       "<matplotlib.figure.Figure at 0x10ce7f8d0>"
      ]
     },
     "metadata": {},
     "output_type": "display_data"
    },
    {
     "data": {
      "image/png": "[encoded data removed]",
      "text/plain": [
       "<matplotlib.figure.Figure at 0x110835d90>"
      ]
     },
     "metadata": {},
     "output_type": "display_data"
    }
   ],
   "source": [
    "meanSem.fall11.hist(bins=30)\n",
    "plt.show()\n",
    "\n",
    "meanSem.spring12.hist(bins=30)\n",
    "plt.show()\n",
    "\n",
    "meanSem.fall12.hist(bins=30)\n",
    "plt.show()\n",
    "\n",
    "meanSem.spring13.hist(bins=30)\n",
    "plt.show()\n",
    "\n",
    "meanSem.fall13.hist(bins=30)\n",
    "plt.show()"
   ]
  },
  {
   "cell_type": "code",
   "execution_count": 141,
   "metadata": {},
   "outputs": [
    {
     "data": {
      "image/png": "[encoded data removed]",
      "text/plain": [
       "<matplotlib.figure.Figure at 0x10e22a6d0>"
      ]
     },
     "metadata": {},
     "output_type": "display_data"
    },
    {
     "data": {
      "image/png": "[encoded data removed]",
      "text/plain": [
       "<matplotlib.figure.Figure at 0x108dc7d90>"
      ]
     },
     "metadata": {},
     "output_type": "display_data"
    },
    {
     "data": {
      "image/png": "[encoded data removed]",
      "text/plain": [
       "<matplotlib.figure.Figure at 0x108deee10>"
      ]
     },
     "metadata": {},
     "output_type": "display_data"
    },
    {
     "data": {
      "image/png": "[encoded data removed]",
      "text/plain": [
       "<matplotlib.figure.Figure at 0x109983290>"
      ]
     },
     "metadata": {},
     "output_type": "display_data"
    },
    {
     "data": {
      "image/png": "[encoded data removed]",
      "text/plain": [
       "<matplotlib.figure.Figure at 0x10e411d10>"
      ]
     },
     "metadata": {},
     "output_type": "display_data"
    }
   ],
   "source": [
    "medSem.fall11.hist(bins=30)\n",
    "plt.show()\n",
    "\n",
    "medSem.spring12.hist(bins=30)\n",
    "plt.show()\n",
    "\n",
    "medSem.fall12.hist(bins=30)\n",
    "plt.show()\n",
    "\n",
    "medSem.spring13.hist(bins=30)\n",
    "plt.show()\n",
    "\n",
    "medSem.fall13.hist(bins=30)\n",
    "plt.show()"
   ]
  },
  {
   "cell_type": "code",
   "execution_count": 87,
   "metadata": {},
   "outputs": [
    {
     "data": {
      "image/png": "[encoded data removed]",
      "text/plain": [
       "<matplotlib.figure.Figure at 0x10e254290>"
      ]
     },
     "metadata": {},
     "output_type": "display_data"
    },
    {
     "data": {
      "image/png": "[encoded data removed]",
      "text/plain": [
       "<matplotlib.figure.Figure at 0x10cf5b050>"
      ]
     },
     "metadata": {},
     "output_type": "display_data"
    },
    {
     "data": {
      "image/png": "[encoded data removed]",
      "text/plain": [
       "<matplotlib.figure.Figure at 0x109a34990>"
      ]
     },
     "metadata": {},
     "output_type": "display_data"
    },
    {
     "data": {
      "image/png": "[encoded data removed]",
      "text/plain": [
       "<matplotlib.figure.Figure at 0x10cde2f90>"
      ]
     },
     "metadata": {},
     "output_type": "display_data"
    },
    {
     "data": {
      "image/png": "[encoded data removed]",
      "text/plain": [
       "<matplotlib.figure.Figure at 0x10cec0dd0>"
      ]
     },
     "metadata": {},
     "output_type": "display_data"
    }
   ],
   "source": [
    "meanSem.fall11.plot(kind='kde')\n",
    "plt.show()\n",
    "\n",
    "meanSem.spring12.plot(kind='kde')\n",
    "plt.show()\n",
    "\n",
    "meanSem.fall12.plot(kind='kde')\n",
    "plt.show()\n",
    "\n",
    "meanSem.spring13.plot(kind='kde')\n",
    "plt.show()\n",
    "\n",
    "meanSem.fall13.plot(kind='kde')\n",
    "plt.show()"
   ]
  },
  {
   "cell_type": "code",
   "execution_count": 88,
   "metadata": {},
   "outputs": [
    {
     "data": {
      "image/png": "[encoded data removed]",
      "text/plain": [
       "<matplotlib.figure.Figure at 0x10cd8ab10>"
      ]
     },
     "metadata": {},
     "output_type": "display_data"
    },
    {
     "data": {
      "image/png": "[encoded data removed]",
      "text/plain": [
       "<matplotlib.figure.Figure at 0x10e27f650>"
      ]
     },
     "metadata": {},
     "output_type": "display_data"
    },
    {
     "data": {
      "image/png": "[encoded data removed]",
      "text/plain": [
       "<matplotlib.figure.Figure at 0x108dc74d0>"
      ]
     },
     "metadata": {},
     "output_type": "display_data"
    },
    {
     "data": {
      "image/png": "[encoded data removed]",
      "text/plain": [
       "<matplotlib.figure.Figure at 0x108df0a10>"
      ]
     },
     "metadata": {},
     "output_type": "display_data"
    },
    {
     "data": {
      "image/png": "[encoded data removed]",
      "text/plain": [
       "<matplotlib.figure.Figure at 0x109907310>"
      ]
     },
     "metadata": {},
     "output_type": "display_data"
    }
   ],
   "source": [
    "medSem.fall11.plot(kind='kde')\n",
    "plt.show()\n",
    "\n",
    "medSem.spring12.plot(kind='kde')\n",
    "plt.show()\n",
    "\n",
    "medSem.fall12.plot(kind='kde')\n",
    "plt.show()\n",
    "\n",
    "medSem.spring13.plot(kind='kde')\n",
    "plt.show()\n",
    "\n",
    "medSem.fall13.plot(kind='kde')\n",
    "plt.show()"
   ]
  },
  {
   "cell_type": "markdown",
   "metadata": {},
   "source": [
    "#### Inferences of the data\n",
    "\n",
    "The plot seem to have a normal distribution.\n",
    "\n",
    "Seems as though computer utilization was pretty low up until the Fall 2012 semester, the plot helps to vizualize this point. This seems to be caused by a great amount of machines not being used up until 2012. These could be new machines that were not being used prior to the Fall 2012 semester. \n"
   ]
  },
  {
   "cell_type": "markdown",
   "metadata": {},
   "source": [
    "#### Conduct Probablity distibution analysis based on the data. Analyze your data based on the type of distribution it best fits (for PDF and CDF)\n",
    "#### Conduct Method of Moments analysis on your data to suggest the best fit distribution. Visualize the results"
   ]
  },
  {
   "cell_type": "markdown",
   "metadata": {},
   "source": [
    "## This helps to show that the Fall2011 and Spring 2012 semesters had a lot of computers not used during this time. \n",
    "The area less than or equal to 5 during these semesters held around 60% of the computer usage, which is about twice as much as the following semesters."
   ]
  },
  {
   "cell_type": "code",
   "execution_count": 145,
   "metadata": {},
   "outputs": [
    {
     "name": "stdout",
     "output_type": "stream",
     "text": [
      "(0.97403920614893613, 0.99175092829285783, 0.007017249075586568, 0.0031702563000283231, 0.0035029831514078514)\n"
     ]
    }
   ],
   "source": [
    "faLL11 = stats.poisson.cdf(k = 5, mu = 2.221784)\n",
    "sprinG12 = stats.poisson.cdf(k =5, mu = 1.711422)\n",
    "faLL12 = stats.poisson.cdf(k = 5, mu = 13.645021)\n",
    "sprinG13 = stats.poisson.cdf(k = 5, mu = 14.816492)\n",
    "faLL13 = stats.poisson.cdf(k = 5, mu = 14.671523)\n",
    "\n",
    "print (faLL11, sprinG12, faLL12, sprinG13, faLL13)"
   ]
  },
  {
   "cell_type": "code",
   "execution_count": 146,
   "metadata": {},
   "outputs": [
    {
     "name": "stdout",
     "output_type": "stream",
     "text": [
      "(8.7568273054976144e-05, 1.0728696031902913e-05, 0.07311756591993325, 0.051638088678217967, 0.054103763373368162)\n"
     ]
    }
   ],
   "source": [
    "faLL11 = stats.poisson.pmf(k=10, mu = 2.221784)\n",
    "sprinG12 = stats.poisson.pmf(k=10, mu = 1.711422)\n",
    "faLL12 = stats.poisson.pmf(k=10, mu = 13.645021)\n",
    "sprinG13 = stats.poisson.pmf(k=10, mu = 14.816492)\n",
    "faLL13 = stats.poisson.pmf(k=10, mu = 14.671523)\n",
    "\n",
    "print (faLL11, sprinG12, faLL12, sprinG13, faLL13)\n"
   ]
  },
  {
   "cell_type": "code",
   "execution_count": 162,
   "metadata": {},
   "outputs": [
    {
     "name": "stderr",
     "output_type": "stream",
     "text": [
      "/Users/moyockmike/Envs/CSC693/lib/python2.7/site-packages/ipykernel_launcher.py:21: DeprecationWarning: `spline` is deprecated!\n",
      "spline is deprecated in scipy 0.19.0, use Bspline class instead.\n"
     ]
    },
    {
     "data": {
      "image/png": "[encoded data removed]",
      "text/plain": [
       "<matplotlib.figure.Figure at 0x10e2c7210>"
      ]
     },
     "metadata": {},
     "output_type": "display_data"
    },
    {
     "name": "stderr",
     "output_type": "stream",
     "text": [
      "/Users/moyockmike/Envs/CSC693/lib/python2.7/site-packages/ipykernel_launcher.py:44: DeprecationWarning: `spline` is deprecated!\n",
      "spline is deprecated in scipy 0.19.0, use Bspline class instead.\n"
     ]
    },
    {
     "data": {
      "image/png": "[encoded data removed]",
      "text/plain": [
       "<matplotlib.figure.Figure at 0x10e22a350>"
      ]
     },
     "metadata": {},
     "output_type": "display_data"
    },
    {
     "name": "stderr",
     "output_type": "stream",
     "text": [
      "/Users/moyockmike/Envs/CSC693/lib/python2.7/site-packages/ipykernel_launcher.py:67: DeprecationWarning: `spline` is deprecated!\n",
      "spline is deprecated in scipy 0.19.0, use Bspline class instead.\n"
     ]
    },
    {
     "data": {
      "image/png": "[encoded data removed]",
      "text/plain": [
       "<matplotlib.figure.Figure at 0x109dccb90>"
      ]
     },
     "metadata": {},
     "output_type": "display_data"
    },
    {
     "name": "stderr",
     "output_type": "stream",
     "text": [
      "/Users/moyockmike/Envs/CSC693/lib/python2.7/site-packages/ipykernel_launcher.py:91: DeprecationWarning: `spline` is deprecated!\n",
      "spline is deprecated in scipy 0.19.0, use Bspline class instead.\n"
     ]
    },
    {
     "data": {
      "image/png": "[encoded data removed]",
      "text/plain": [
       "<matplotlib.figure.Figure at 0x109963090>"
      ]
     },
     "metadata": {},
     "output_type": "display_data"
    },
    {
     "name": "stderr",
     "output_type": "stream",
     "text": [
      "/Users/moyockmike/Envs/CSC693/lib/python2.7/site-packages/ipykernel_launcher.py:115: DeprecationWarning: `spline` is deprecated!\n",
      "spline is deprecated in scipy 0.19.0, use Bspline class instead.\n"
     ]
    },
    {
     "data": {
      "image/png": "[encoded data removed]",
      "text/plain": [
       "<matplotlib.figure.Figure at 0x109981550>"
      ]
     },
     "metadata": {},
     "output_type": "display_data"
    }
   ],
   "source": [
    "import scipy as sp\n",
    "from scipy import interpolate\n",
    "\n",
    "mu = 2.221784\n",
    "sigma = sp.sqrt(mu)\n",
    "mu_plus_sigma = mu + sigma\n",
    "\n",
    "means = faLL11\n",
    "\n",
    "# Plot histogram.\n",
    "plt.hist(means, bins=bins, align=\"left\", histtype=\"step\", color=\"black\")\n",
    "\n",
    "# Create Poisson distribution for given mu.\n",
    "x = range(0,20)\n",
    "prob = stats.poisson.pmf(x, mu)*100 \n",
    "\n",
    "# Plot the PMF.\n",
    "plt.plot(x, prob, \"o\", color=\"black\")\n",
    "\n",
    "l = sp.linspace(0,11,100)\n",
    "s = interpolate.spline(x, prob, l)\n",
    "plt.plot(l,s,color=\"black\")\n",
    "\n",
    "plt.show()\n",
    "\n",
    "\n",
    "mu = 1.711422\n",
    "sigma = sp.sqrt(mu)\n",
    "mu_plus_sigma = mu + sigma\n",
    "\n",
    "means = sprinG12\n",
    "\n",
    "# Plot histogram.\n",
    "plt.hist(means, bins=bins, align=\"left\", histtype=\"step\", color=\"black\")\n",
    "\n",
    "# Create Poisson distribution for given mu.\n",
    "x = range(0,20)\n",
    "prob = stats.poisson.pmf(x, mu)*100 \n",
    "\n",
    "# Plot the PMF.\n",
    "plt.plot(x, prob, \"o\", color=\"black\")\n",
    "\n",
    "l = sp.linspace(0,11,100)\n",
    "s = interpolate.spline(x, prob, l)\n",
    "plt.plot(l,s,color=\"black\")\n",
    "\n",
    "plt.show()\n",
    "\n",
    "\n",
    "mu = 13.645021\n",
    "sigma = sp.sqrt(mu)\n",
    "mu_plus_sigma = mu + sigma\n",
    "\n",
    "means =  faLL12\n",
    "\n",
    "# Plot histogram.\n",
    "plt.hist(means, bins=bins, align=\"left\", histtype=\"step\", color=\"black\")\n",
    "\n",
    "# Create Poisson distribution for given mu.\n",
    "x = range(0,50)\n",
    "prob = stats.poisson.pmf(x, mu)*100 \n",
    "\n",
    "# Plot the PMF.\n",
    "plt.plot(x, prob, \"o\", color=\"black\")\n",
    "\n",
    "l = sp.linspace(0,50,100)\n",
    "s = interpolate.spline(x, prob, l)\n",
    "plt.plot(l,s,color=\"black\")\n",
    "\n",
    "plt.show()\n",
    "\n",
    "\n",
    "\n",
    "mu = 14.816492\n",
    "sigma = sp.sqrt(mu)\n",
    "mu_plus_sigma = mu + sigma\n",
    "\n",
    "means = sprinG13\n",
    "\n",
    "# Plot histogram.\n",
    "plt.hist(means, bins=bins, align=\"left\", histtype=\"step\", color=\"black\")\n",
    "\n",
    "# Create Poisson distribution for given mu.\n",
    "x = range(0,50)\n",
    "prob = stats.poisson.pmf(x, mu)*100 \n",
    "\n",
    "# Plot the PMF.\n",
    "plt.plot(x, prob, \"o\", color=\"black\")\n",
    "\n",
    "l = sp.linspace(0,50,100)\n",
    "s = interpolate.spline(x, prob, l)\n",
    "plt.plot(l,s,color=\"black\")\n",
    "\n",
    "plt.show()\n",
    "\n",
    "\n",
    "\n",
    "mu = 14.671523\n",
    "sigma = sp.sqrt(mu)\n",
    "mu_plus_sigma = mu + sigma\n",
    "\n",
    "means = faLL13\n",
    "\n",
    "# Plot histogram.\n",
    "plt.hist(means, bins=bins, align=\"left\", histtype=\"step\", color=\"black\")\n",
    "\n",
    "# Create Poisson distribution for given mu.\n",
    "x = range(0,50)\n",
    "prob = stats.poisson.pmf(x, mu)*100 \n",
    "\n",
    "# Plot the PMF.\n",
    "plt.plot(x, prob, \"o\", color=\"black\")\n",
    "\n",
    "l = sp.linspace(0,50,100)\n",
    "s = interpolate.spline(x, prob, l)\n",
    "plt.plot(l,s,color=\"black\")\n",
    "\n",
    "plt.show()"
   ]
  },
  {
   "cell_type": "markdown",
   "metadata": {},
   "source": [
    "### ***For Part 3***\n",
    "* Compare the variable with other variables in your project\n",
    "\n",
    "### Part 3\n",
    "* **Formulate a null hypothesis and evaluate it, perform correlation measures, and construct a linear regression model**\n"
   ]
  },
  {
   "cell_type": "markdown",
   "metadata": {},
   "source": [
    "# Null Hypothesis\n",
    "There is no relationship between number of monitors and computer ulitization.\n",
    "There is no relationship between Computer attributes and computer ulitization."
   ]
  },
  {
   "cell_type": "code",
   "execution_count": 98,
   "metadata": {
    "collapsed": true
   },
   "outputs": [],
   "source": [
    "Data = open(os.path.join('..', '..', '..', 'Library-Computer-Usage-Analysis', 'data', 'computerAttributes.csv'), 'rb')"
   ]
  },
  {
   "cell_type": "code",
   "execution_count": 99,
   "metadata": {
    "collapsed": true
   },
   "outputs": [],
   "source": [
    "attData = pd.read_csv(Data,header=0)"
   ]
  },
  {
   "cell_type": "code",
   "execution_count": 100,
   "metadata": {
    "collapsed": true
   },
   "outputs": [],
   "source": [
    "attData['requiresLogon'] = attData['requiresLogon'].astype('bool')\n",
    "#attData['isDesktop'] = attData['isDesktop'].astype('bool')\n",
    "#attData['is245'] = attData['is245'].astype('bool')\n",
    "#attData['largeMonitor'] = attData['largeMonitor'].astype('bool')\n",
    "#attData['adjacentWindow'] = attData['adjacentWindow'].astype('bool')\n",
    "#attData['collaborativeSpace'] = attData['collaborativeSpace'].astype('bool')\n",
    "#attData['roomIsolated'] = attData['roomIsolated'].astype('bool')\n",
    "#attData['inQuietArea'] = attData['inQuietArea'].astype('bool')"
   ]
  },
  {
   "cell_type": "code",
   "execution_count": 101,
   "metadata": {},
   "outputs": [
    {
     "data": {
      "text/html": [
       "<div>\n",
       "<style scoped>\n",
       "    .dataframe tbody tr th:only-of-type {\n",
       "        vertical-align: middle;\n",
       "    }\n",
       "\n",
       "    .dataframe tbody tr th {\n",
       "        vertical-align: top;\n",
       "    }\n",
       "\n",
       "    .dataframe thead th {\n",
       "        text-align: right;\n",
       "    }\n",
       "</style>\n",
       "<table border=\"1\" class=\"dataframe\">\n",
       "  <thead>\n",
       "    <tr style=\"text-align: right;\">\n",
       "      <th></th>\n",
       "      <th>dbID</th>\n",
       "      <th>computerName</th>\n",
       "      <th>requiresLogon</th>\n",
       "      <th>isDesktop</th>\n",
       "      <th>inJackson</th>\n",
       "      <th>location</th>\n",
       "      <th>is245</th>\n",
       "      <th>floor</th>\n",
       "      <th>numMonitors</th>\n",
       "      <th>largeMonitor</th>\n",
       "      <th>adjacentWindow</th>\n",
       "      <th>collaborativeSpace</th>\n",
       "      <th>roomIsolated</th>\n",
       "      <th>inQuietArea</th>\n",
       "    </tr>\n",
       "  </thead>\n",
       "  <tbody>\n",
       "    <tr>\n",
       "      <th>0</th>\n",
       "      <td>187</td>\n",
       "      <td>BL001</td>\n",
       "      <td>True</td>\n",
       "      <td>1</td>\n",
       "      <td>1</td>\n",
       "      <td>Tower</td>\n",
       "      <td>1</td>\n",
       "      <td>0</td>\n",
       "      <td>1.0</td>\n",
       "      <td>0.0</td>\n",
       "      <td>0.0</td>\n",
       "      <td>0.0</td>\n",
       "      <td>0.0</td>\n",
       "      <td>0.0</td>\n",
       "    </tr>\n",
       "    <tr>\n",
       "      <th>1</th>\n",
       "      <td>188</td>\n",
       "      <td>BL002</td>\n",
       "      <td>True</td>\n",
       "      <td>1</td>\n",
       "      <td>1</td>\n",
       "      <td>Tower</td>\n",
       "      <td>1</td>\n",
       "      <td>0</td>\n",
       "      <td>1.0</td>\n",
       "      <td>0.0</td>\n",
       "      <td>0.0</td>\n",
       "      <td>0.0</td>\n",
       "      <td>0.0</td>\n",
       "      <td>0.0</td>\n",
       "    </tr>\n",
       "    <tr>\n",
       "      <th>2</th>\n",
       "      <td>105</td>\n",
       "      <td>CITI001</td>\n",
       "      <td>True</td>\n",
       "      <td>1</td>\n",
       "      <td>1</td>\n",
       "      <td>CITI Lab</td>\n",
       "      <td>1</td>\n",
       "      <td>1</td>\n",
       "      <td>1.0</td>\n",
       "      <td>0.0</td>\n",
       "      <td>1.0</td>\n",
       "      <td>0.0</td>\n",
       "      <td>0.0</td>\n",
       "      <td>0.0</td>\n",
       "    </tr>\n",
       "    <tr>\n",
       "      <th>3</th>\n",
       "      <td>106</td>\n",
       "      <td>CITI002</td>\n",
       "      <td>True</td>\n",
       "      <td>1</td>\n",
       "      <td>1</td>\n",
       "      <td>CITI Lab</td>\n",
       "      <td>1</td>\n",
       "      <td>1</td>\n",
       "      <td>1.0</td>\n",
       "      <td>0.0</td>\n",
       "      <td>0.0</td>\n",
       "      <td>0.0</td>\n",
       "      <td>0.0</td>\n",
       "      <td>0.0</td>\n",
       "    </tr>\n",
       "    <tr>\n",
       "      <th>4</th>\n",
       "      <td>107</td>\n",
       "      <td>CITI003</td>\n",
       "      <td>True</td>\n",
       "      <td>1</td>\n",
       "      <td>1</td>\n",
       "      <td>CITI Lab</td>\n",
       "      <td>1</td>\n",
       "      <td>1</td>\n",
       "      <td>1.0</td>\n",
       "      <td>0.0</td>\n",
       "      <td>0.0</td>\n",
       "      <td>0.0</td>\n",
       "      <td>0.0</td>\n",
       "      <td>0.0</td>\n",
       "    </tr>\n",
       "  </tbody>\n",
       "</table>\n",
       "</div>"
      ],
      "text/plain": [
       "   dbID computerName  requiresLogon  isDesktop  inJackson  location  is245  \\\n",
       "0   187        BL001           True          1          1     Tower      1   \n",
       "1   188        BL002           True          1          1     Tower      1   \n",
       "2   105      CITI001           True          1          1  CITI Lab      1   \n",
       "3   106      CITI002           True          1          1  CITI Lab      1   \n",
       "4   107      CITI003           True          1          1  CITI Lab      1   \n",
       "\n",
       "  floor  numMonitors  largeMonitor  adjacentWindow  collaborativeSpace  \\\n",
       "0     0          1.0           0.0             0.0                 0.0   \n",
       "1     0          1.0           0.0             0.0                 0.0   \n",
       "2     1          1.0           0.0             1.0                 0.0   \n",
       "3     1          1.0           0.0             0.0                 0.0   \n",
       "4     1          1.0           0.0             0.0                 0.0   \n",
       "\n",
       "   roomIsolated  inQuietArea  \n",
       "0           0.0          0.0  \n",
       "1           0.0          0.0  \n",
       "2           0.0          0.0  \n",
       "3           0.0          0.0  \n",
       "4           0.0          0.0  "
      ]
     },
     "execution_count": 101,
     "metadata": {},
     "output_type": "execute_result"
    }
   ],
   "source": [
    "attData.head()"
   ]
  },
  {
   "cell_type": "code",
   "execution_count": 102,
   "metadata": {
    "collapsed": true
   },
   "outputs": [],
   "source": [
    "attData.index = attData['computerName']"
   ]
  },
  {
   "cell_type": "code",
   "execution_count": 103,
   "metadata": {
    "collapsed": true
   },
   "outputs": [],
   "source": [
    "fall2011 = utilization[(utilization.index >= '2011-08-15') & (utilization.index < '2011-12-15')]\n",
    "spring2012 = utilization[(utilization.index >= '2012-01-09') & (utilization.index < '2012-05-04')]\n",
    "fall2012 = utilization[(utilization.index >= '2012-08-13') & (utilization.index < '2012-12-13')]\n",
    "spring2013 = utilization[(utilization.index >= '2013-01-14') & (utilization.index < '2013-05-10')]\n",
    "fall2013 = utilization[(utilization.index >= '2013-08-12') & (utilization.index < '2013-12-13')]\n",
    "spring14 = utilization[(utilization.index >= '2014-01-13') & (utilization.index < '2014-05-09')]\n",
    "fall14 = utilization[(utilization.index >= '2014-08-11') & (utilization.index < '2014-12-11')]\n",
    "spring15 = utilization[(utilization.index >= '2015-01-12') & (utilization.index < '2015-05-08')]\n",
    "fall15 = utilization[(utilization.index >= '2015-08-10') & (utilization.index < '2015-12-10')]\n",
    "spring16 = utilization[(utilization.index >= '2016-01-11') & (utilization.index < '2016-05-06')]\n",
    "fall16 = utilization[(utilization.index >= '2016-08-15') & (utilization.index < '2016-12-15')]\n",
    "spring17 = utilization[(utilization.index >= '2017-01-17') & (utilization.index < '2017-05-12')]"
   ]
  },
  {
   "cell_type": "code",
   "execution_count": 104,
   "metadata": {
    "collapsed": true
   },
   "outputs": [],
   "source": [
    "all_dfs = [fall2011, spring2012, fall2012, spring2013, fall2013, spring14, fall14, spring15, fall15, spring16, fall16, spring17]\n",
    "\n",
    "utilization2 = pd.concat(all_dfs)\n",
    "utilization3 = utilization2.mean()"
   ]
  },
  {
   "cell_type": "code",
   "execution_count": 105,
   "metadata": {
    "collapsed": true
   },
   "outputs": [],
   "source": [
    "attData['utilization'] = utilization3.values"
   ]
  },
  {
   "cell_type": "code",
   "execution_count": 129,
   "metadata": {
    "collapsed": true
   },
   "outputs": [],
   "source": [
    "attData = attData[attData['requiresLogon'] == True] "
   ]
  },
  {
   "cell_type": "code",
   "execution_count": 107,
   "metadata": {},
   "outputs": [
    {
     "data": {
      "image/png": "[encoded data removed]",
      "text/plain": [
       "<matplotlib.figure.Figure at 0x109ac4ad0>"
      ]
     },
     "metadata": {},
     "output_type": "display_data"
    }
   ],
   "source": [
    "# first, plot the observed data\n",
    "attData.plot(kind='scatter', x='numMonitors', y='utilization')\n",
    "plt.show()"
   ]
  },
  {
   "cell_type": "code",
   "execution_count": 108,
   "metadata": {},
   "outputs": [],
   "source": [
    "import statsmodels.formula.api as smf\n"
   ]
  },
  {
   "cell_type": "code",
   "execution_count": 109,
   "metadata": {},
   "outputs": [
    {
     "data": {
      "text/plain": [
       "Intercept      3.858847\n",
       "numMonitors    6.547671\n",
       "dtype: float64"
      ]
     },
     "execution_count": 109,
     "metadata": {},
     "output_type": "execute_result"
    }
   ],
   "source": [
    "# create fitted model\n",
    "lm = smf.ols(formula='utilization ~ numMonitors', data=attData).fit()\n",
    "\n",
    "lm.params"
   ]
  },
  {
   "cell_type": "code",
   "execution_count": 110,
   "metadata": {},
   "outputs": [
    {
     "data": {
      "text/plain": [
       "23.50186"
      ]
     },
     "execution_count": 110,
     "metadata": {},
     "output_type": "execute_result"
    }
   ],
   "source": [
    "# manually calculate with 3 monitors\n",
    "3.858847 + 6.547671*3"
   ]
  },
  {
   "cell_type": "code",
   "execution_count": 111,
   "metadata": {},
   "outputs": [
    {
     "data": {
      "text/html": [
       "<div>\n",
       "<style scoped>\n",
       "    .dataframe tbody tr th:only-of-type {\n",
       "        vertical-align: middle;\n",
       "    }\n",
       "\n",
       "    .dataframe tbody tr th {\n",
       "        vertical-align: top;\n",
       "    }\n",
       "\n",
       "    .dataframe thead th {\n",
       "        text-align: right;\n",
       "    }\n",
       "</style>\n",
       "<table border=\"1\" class=\"dataframe\">\n",
       "  <thead>\n",
       "    <tr style=\"text-align: right;\">\n",
       "      <th></th>\n",
       "      <th>numMonitors</th>\n",
       "    </tr>\n",
       "  </thead>\n",
       "  <tbody>\n",
       "    <tr>\n",
       "      <th>0</th>\n",
       "      <td>3</td>\n",
       "    </tr>\n",
       "  </tbody>\n",
       "</table>\n",
       "</div>"
      ],
      "text/plain": [
       "   numMonitors\n",
       "0            3"
      ]
     },
     "execution_count": 111,
     "metadata": {},
     "output_type": "execute_result"
    }
   ],
   "source": [
    "X_new = pd.DataFrame({'numMonitors': [3]})\n",
    "X_new.head()"
   ]
  },
  {
   "cell_type": "markdown",
   "metadata": {},
   "source": [
    "##### This matches what I got manually calculating for 3 monitors"
   ]
  },
  {
   "cell_type": "code",
   "execution_count": 112,
   "metadata": {},
   "outputs": [
    {
     "data": {
      "text/plain": [
       "0    23.50186\n",
       "dtype: float64"
      ]
     },
     "execution_count": 112,
     "metadata": {},
     "output_type": "execute_result"
    }
   ],
   "source": [
    "lm.predict(X_new)"
   ]
  },
  {
   "cell_type": "code",
   "execution_count": 113,
   "metadata": {},
   "outputs": [
    {
     "data": {
      "text/html": [
       "<div>\n",
       "<style scoped>\n",
       "    .dataframe tbody tr th:only-of-type {\n",
       "        vertical-align: middle;\n",
       "    }\n",
       "\n",
       "    .dataframe tbody tr th {\n",
       "        vertical-align: top;\n",
       "    }\n",
       "\n",
       "    .dataframe thead th {\n",
       "        text-align: right;\n",
       "    }\n",
       "</style>\n",
       "<table border=\"1\" class=\"dataframe\">\n",
       "  <thead>\n",
       "    <tr style=\"text-align: right;\">\n",
       "      <th></th>\n",
       "      <th>numMonitors</th>\n",
       "    </tr>\n",
       "  </thead>\n",
       "  <tbody>\n",
       "    <tr>\n",
       "      <th>0</th>\n",
       "      <td>0.0</td>\n",
       "    </tr>\n",
       "    <tr>\n",
       "      <th>1</th>\n",
       "      <td>2.0</td>\n",
       "    </tr>\n",
       "  </tbody>\n",
       "</table>\n",
       "</div>"
      ],
      "text/plain": [
       "   numMonitors\n",
       "0          0.0\n",
       "1          2.0"
      ]
     },
     "execution_count": 113,
     "metadata": {},
     "output_type": "execute_result"
    }
   ],
   "source": [
    "X_new = pd.DataFrame({'numMonitors': [attData.numMonitors.min(), attData.numMonitors.max()]})\n",
    "X_new.head()"
   ]
  },
  {
   "cell_type": "code",
   "execution_count": 114,
   "metadata": {},
   "outputs": [
    {
     "data": {
      "text/plain": [
       "0     3.858847\n",
       "1    16.954189\n",
       "dtype: float64"
      ]
     },
     "execution_count": 114,
     "metadata": {},
     "output_type": "execute_result"
    }
   ],
   "source": [
    "preds = lm.predict(X_new)\n",
    "preds"
   ]
  },
  {
   "cell_type": "code",
   "execution_count": 115,
   "metadata": {},
   "outputs": [
    {
     "data": {
      "image/png": "[encoded data removed]",
      "text/plain": [
       "<matplotlib.figure.Figure at 0x108be8910>"
      ]
     },
     "metadata": {},
     "output_type": "display_data"
    }
   ],
   "source": [
    "attData.plot(kind='scatter', x='numMonitors', y='utilization')\n",
    "\n",
    "plt.plot(X_new, preds, c='red', linewidth=2)\n",
    "plt.show()"
   ]
  },
  {
   "cell_type": "code",
   "execution_count": 116,
   "metadata": {},
   "outputs": [
    {
     "data": {
      "text/plain": [
       "Intercept      2.939017e-02\n",
       "numMonitors    1.210677e-07\n",
       "dtype: float64"
      ]
     },
     "execution_count": 116,
     "metadata": {},
     "output_type": "execute_result"
    }
   ],
   "source": [
    "# p-values\n",
    "lm.pvalues"
   ]
  },
  {
   "cell_type": "markdown",
   "metadata": {},
   "source": [
    "## Reject the null hypothesis for the number of monitors.\n",
    "The p-value is far below .05, so I believe there is some relationship between Number of Monitors and a computer's utilization."
   ]
  },
  {
   "cell_type": "code",
   "execution_count": 126,
   "metadata": {},
   "outputs": [
    {
     "data": {
      "text/plain": [
       "Intercept     -4.076441\n",
       "numMonitors    5.364660\n",
       "isDesktop      8.524051\n",
       "is245          6.210732\n",
       "dtype: float64"
      ]
     },
     "execution_count": 126,
     "metadata": {},
     "output_type": "execute_result"
    }
   ],
   "source": [
    "# create a fitted model with more features\n",
    "lm = smf.ols(formula='utilization ~ numMonitors + isDesktop + is245', data=attData).fit()\n",
    "lm.params"
   ]
  },
  {
   "cell_type": "code",
   "execution_count": 121,
   "metadata": {},
   "outputs": [
    {
     "data": {
      "text/html": [
       "<table class=\"simpletable\">\n",
       "<caption>OLS Regression Results</caption>\n",
       "<tr>\n",
       "  <th>Dep. Variable:</th>       <td>utilization</td>   <th>  R-squared:         </th> <td>   0.220</td>\n",
       "</tr>\n",
       "<tr>\n",
       "  <th>Model:</th>                   <td>OLS</td>       <th>  Adj. R-squared:    </th> <td>   0.211</td>\n",
       "</tr>\n",
       "<tr>\n",
       "  <th>Method:</th>             <td>Least Squares</td>  <th>  F-statistic:       </th> <td>   26.29</td>\n",
       "</tr>\n",
       "<tr>\n",
       "  <th>Date:</th>             <td>Fri, 17 Nov 2017</td> <th>  Prob (F-statistic):</th> <td>5.17e-15</td>\n",
       "</tr>\n",
       "<tr>\n",
       "  <th>Time:</th>                 <td>16:04:00</td>     <th>  Log-Likelihood:    </th> <td> -1034.6</td>\n",
       "</tr>\n",
       "<tr>\n",
       "  <th>No. Observations:</th>      <td>   284</td>      <th>  AIC:               </th> <td>   2077.</td>\n",
       "</tr>\n",
       "<tr>\n",
       "  <th>Df Residuals:</th>          <td>   280</td>      <th>  BIC:               </th> <td>   2092.</td>\n",
       "</tr>\n",
       "<tr>\n",
       "  <th>Df Model:</th>              <td>     3</td>      <th>                     </th>     <td> </td>   \n",
       "</tr>\n",
       "<tr>\n",
       "  <th>Covariance Type:</th>      <td>nonrobust</td>    <th>                     </th>     <td> </td>   \n",
       "</tr>\n",
       "</table>\n",
       "<table class=\"simpletable\">\n",
       "<tr>\n",
       "       <td></td>          <th>coef</th>     <th>std err</th>      <th>t</th>      <th>P>|t|</th>  <th>[0.025</th>    <th>0.975]</th>  \n",
       "</tr>\n",
       "<tr>\n",
       "  <th>Intercept</th>   <td>   -4.0764</td> <td>    2.121</td> <td>   -1.922</td> <td> 0.056</td> <td>   -8.251</td> <td>    0.098</td>\n",
       "</tr>\n",
       "<tr>\n",
       "  <th>numMonitors</th> <td>    5.3647</td> <td>    1.277</td> <td>    4.201</td> <td> 0.000</td> <td>    2.851</td> <td>    7.878</td>\n",
       "</tr>\n",
       "<tr>\n",
       "  <th>isDesktop</th>   <td>    8.5241</td> <td>    1.491</td> <td>    5.717</td> <td> 0.000</td> <td>    5.589</td> <td>   11.459</td>\n",
       "</tr>\n",
       "<tr>\n",
       "  <th>is245</th>       <td>    6.2107</td> <td>    1.231</td> <td>    5.046</td> <td> 0.000</td> <td>    3.788</td> <td>    8.634</td>\n",
       "</tr>\n",
       "</table>\n",
       "<table class=\"simpletable\">\n",
       "<tr>\n",
       "  <th>Omnibus:</th>       <td>75.461</td> <th>  Durbin-Watson:     </th> <td>   0.939</td>\n",
       "</tr>\n",
       "<tr>\n",
       "  <th>Prob(Omnibus):</th> <td> 0.000</td> <th>  Jarque-Bera (JB):  </th> <td> 264.348</td>\n",
       "</tr>\n",
       "<tr>\n",
       "  <th>Skew:</th>          <td> 1.104</td> <th>  Prob(JB):          </th> <td>3.96e-58</td>\n",
       "</tr>\n",
       "<tr>\n",
       "  <th>Kurtosis:</th>      <td> 7.179</td> <th>  Cond. No.          </th> <td>    8.87</td>\n",
       "</tr>\n",
       "</table>"
      ],
      "text/plain": [
       "<class 'statsmodels.iolib.summary.Summary'>\n",
       "\"\"\"\n",
       "                            OLS Regression Results                            \n",
       "==============================================================================\n",
       "Dep. Variable:            utilization   R-squared:                       0.220\n",
       "Model:                            OLS   Adj. R-squared:                  0.211\n",
       "Method:                 Least Squares   F-statistic:                     26.29\n",
       "Date:                Fri, 17 Nov 2017   Prob (F-statistic):           5.17e-15\n",
       "Time:                        16:04:00   Log-Likelihood:                -1034.6\n",
       "No. Observations:                 284   AIC:                             2077.\n",
       "Df Residuals:                     280   BIC:                             2092.\n",
       "Df Model:                           3                                         \n",
       "Covariance Type:            nonrobust                                         \n",
       "===============================================================================\n",
       "                  coef    std err          t      P>|t|      [0.025      0.975]\n",
       "-------------------------------------------------------------------------------\n",
       "Intercept      -4.0764      2.121     -1.922      0.056      -8.251       0.098\n",
       "numMonitors     5.3647      1.277      4.201      0.000       2.851       7.878\n",
       "isDesktop       8.5241      1.491      5.717      0.000       5.589      11.459\n",
       "is245           6.2107      1.231      5.046      0.000       3.788       8.634\n",
       "==============================================================================\n",
       "Omnibus:                       75.461   Durbin-Watson:                   0.939\n",
       "Prob(Omnibus):                  0.000   Jarque-Bera (JB):              264.348\n",
       "Skew:                           1.104   Prob(JB):                     3.96e-58\n",
       "Kurtosis:                       7.179   Cond. No.                         8.87\n",
       "==============================================================================\n",
       "\n",
       "Warnings:\n",
       "[1] Standard Errors assume that the covariance matrix of the errors is correctly specified.\n",
       "\"\"\""
      ]
     },
     "execution_count": 121,
     "metadata": {},
     "output_type": "execute_result"
    }
   ],
   "source": [
    "lm.summary()"
   ]
  },
  {
   "cell_type": "code",
   "execution_count": 124,
   "metadata": {},
   "outputs": [
    {
     "data": {
      "text/html": [
       "<div>\n",
       "<style scoped>\n",
       "    .dataframe tbody tr th:only-of-type {\n",
       "        vertical-align: middle;\n",
       "    }\n",
       "\n",
       "    .dataframe tbody tr th {\n",
       "        vertical-align: top;\n",
       "    }\n",
       "\n",
       "    .dataframe thead th {\n",
       "        text-align: right;\n",
       "    }\n",
       "</style>\n",
       "<table border=\"1\" class=\"dataframe\">\n",
       "  <thead>\n",
       "    <tr style=\"text-align: right;\">\n",
       "      <th></th>\n",
       "      <th>utilization</th>\n",
       "      <th>numMonitors</th>\n",
       "      <th>isDesktop</th>\n",
       "      <th>largeMonitor</th>\n",
       "      <th>adjacentWindow</th>\n",
       "      <th>is245</th>\n",
       "      <th>collaborativeSpace</th>\n",
       "      <th>roomIsolated</th>\n",
       "      <th>inQuietArea</th>\n",
       "    </tr>\n",
       "  </thead>\n",
       "  <tbody>\n",
       "    <tr>\n",
       "      <th>utilization</th>\n",
       "      <td>1.000000</td>\n",
       "      <td>0.307720</td>\n",
       "      <td>0.341640</td>\n",
       "      <td>0.063636</td>\n",
       "      <td>-0.102151</td>\n",
       "      <td>0.079048</td>\n",
       "      <td>0.060037</td>\n",
       "      <td>-0.037331</td>\n",
       "      <td>0.129919</td>\n",
       "    </tr>\n",
       "    <tr>\n",
       "      <th>numMonitors</th>\n",
       "      <td>0.307720</td>\n",
       "      <td>1.000000</td>\n",
       "      <td>0.442311</td>\n",
       "      <td>-0.156137</td>\n",
       "      <td>0.245709</td>\n",
       "      <td>-0.338455</td>\n",
       "      <td>0.066655</td>\n",
       "      <td>0.292650</td>\n",
       "      <td>-0.054139</td>\n",
       "    </tr>\n",
       "    <tr>\n",
       "      <th>isDesktop</th>\n",
       "      <td>0.341640</td>\n",
       "      <td>0.442311</td>\n",
       "      <td>1.000000</td>\n",
       "      <td>0.141069</td>\n",
       "      <td>0.226915</td>\n",
       "      <td>-0.383069</td>\n",
       "      <td>0.205738</td>\n",
       "      <td>0.179374</td>\n",
       "      <td>0.121268</td>\n",
       "    </tr>\n",
       "    <tr>\n",
       "      <th>largeMonitor</th>\n",
       "      <td>0.063636</td>\n",
       "      <td>-0.156137</td>\n",
       "      <td>0.141069</td>\n",
       "      <td>1.000000</td>\n",
       "      <td>-0.096032</td>\n",
       "      <td>0.117033</td>\n",
       "      <td>0.685674</td>\n",
       "      <td>0.085781</td>\n",
       "      <td>-0.051321</td>\n",
       "    </tr>\n",
       "    <tr>\n",
       "      <th>adjacentWindow</th>\n",
       "      <td>-0.102151</td>\n",
       "      <td>0.245709</td>\n",
       "      <td>0.226915</td>\n",
       "      <td>-0.096032</td>\n",
       "      <td>1.000000</td>\n",
       "      <td>-0.070376</td>\n",
       "      <td>0.121627</td>\n",
       "      <td>0.388946</td>\n",
       "      <td>-0.082553</td>\n",
       "    </tr>\n",
       "    <tr>\n",
       "      <th>is245</th>\n",
       "      <td>0.079048</td>\n",
       "      <td>-0.338455</td>\n",
       "      <td>-0.383069</td>\n",
       "      <td>0.117033</td>\n",
       "      <td>-0.070376</td>\n",
       "      <td>1.000000</td>\n",
       "      <td>0.237514</td>\n",
       "      <td>0.105306</td>\n",
       "      <td>0.205650</td>\n",
       "    </tr>\n",
       "    <tr>\n",
       "      <th>collaborativeSpace</th>\n",
       "      <td>0.060037</td>\n",
       "      <td>0.066655</td>\n",
       "      <td>0.205738</td>\n",
       "      <td>0.685674</td>\n",
       "      <td>0.121627</td>\n",
       "      <td>0.237514</td>\n",
       "      <td>1.000000</td>\n",
       "      <td>0.636041</td>\n",
       "      <td>0.146578</td>\n",
       "    </tr>\n",
       "    <tr>\n",
       "      <th>roomIsolated</th>\n",
       "      <td>-0.037331</td>\n",
       "      <td>0.292650</td>\n",
       "      <td>0.179374</td>\n",
       "      <td>0.085781</td>\n",
       "      <td>0.388946</td>\n",
       "      <td>0.105306</td>\n",
       "      <td>0.636041</td>\n",
       "      <td>1.000000</td>\n",
       "      <td>0.181849</td>\n",
       "    </tr>\n",
       "    <tr>\n",
       "      <th>inQuietArea</th>\n",
       "      <td>0.129919</td>\n",
       "      <td>-0.054139</td>\n",
       "      <td>0.121268</td>\n",
       "      <td>-0.051321</td>\n",
       "      <td>-0.082553</td>\n",
       "      <td>0.205650</td>\n",
       "      <td>0.146578</td>\n",
       "      <td>0.181849</td>\n",
       "      <td>1.000000</td>\n",
       "    </tr>\n",
       "  </tbody>\n",
       "</table>\n",
       "</div>"
      ],
      "text/plain": [
       "                    utilization  numMonitors  isDesktop  largeMonitor  \\\n",
       "utilization            1.000000     0.307720   0.341640      0.063636   \n",
       "numMonitors            0.307720     1.000000   0.442311     -0.156137   \n",
       "isDesktop              0.341640     0.442311   1.000000      0.141069   \n",
       "largeMonitor           0.063636    -0.156137   0.141069      1.000000   \n",
       "adjacentWindow        -0.102151     0.245709   0.226915     -0.096032   \n",
       "is245                  0.079048    -0.338455  -0.383069      0.117033   \n",
       "collaborativeSpace     0.060037     0.066655   0.205738      0.685674   \n",
       "roomIsolated          -0.037331     0.292650   0.179374      0.085781   \n",
       "inQuietArea            0.129919    -0.054139   0.121268     -0.051321   \n",
       "\n",
       "                    adjacentWindow     is245  collaborativeSpace  \\\n",
       "utilization              -0.102151  0.079048            0.060037   \n",
       "numMonitors               0.245709 -0.338455            0.066655   \n",
       "isDesktop                 0.226915 -0.383069            0.205738   \n",
       "largeMonitor             -0.096032  0.117033            0.685674   \n",
       "adjacentWindow            1.000000 -0.070376            0.121627   \n",
       "is245                    -0.070376  1.000000            0.237514   \n",
       "collaborativeSpace        0.121627  0.237514            1.000000   \n",
       "roomIsolated              0.388946  0.105306            0.636041   \n",
       "inQuietArea              -0.082553  0.205650            0.146578   \n",
       "\n",
       "                    roomIsolated  inQuietArea  \n",
       "utilization            -0.037331     0.129919  \n",
       "numMonitors             0.292650    -0.054139  \n",
       "isDesktop               0.179374     0.121268  \n",
       "largeMonitor            0.085781    -0.051321  \n",
       "adjacentWindow          0.388946    -0.082553  \n",
       "is245                   0.105306     0.205650  \n",
       "collaborativeSpace      0.636041     0.146578  \n",
       "roomIsolated            1.000000     0.181849  \n",
       "inQuietArea             0.181849     1.000000  "
      ]
     },
     "execution_count": 124,
     "metadata": {},
     "output_type": "execute_result"
    }
   ],
   "source": [
    "attData[['utilization','numMonitors', 'isDesktop', 'largeMonitor', 'adjacentWindow', 'is245', 'collaborativeSpace', 'roomIsolated', 'inQuietArea']].corr()"
   ]
  },
  {
   "cell_type": "markdown",
   "metadata": {},
   "source": [
    "### From these correlation numbers it looks like the number of monitors (numMonitors) and whether it is a desktop (isDesktop) have the greatest relationship with computer ulitization"
   ]
  },
  {
   "cell_type": "code",
   "execution_count": 125,
   "metadata": {},
   "outputs": [
    {
     "data": {
      "text/html": [
       "<div>\n",
       "<style scoped>\n",
       "    .dataframe tbody tr th:only-of-type {\n",
       "        vertical-align: middle;\n",
       "    }\n",
       "\n",
       "    .dataframe tbody tr th {\n",
       "        vertical-align: top;\n",
       "    }\n",
       "\n",
       "    .dataframe thead th {\n",
       "        text-align: right;\n",
       "    }\n",
       "</style>\n",
       "<table border=\"1\" class=\"dataframe\">\n",
       "  <thead>\n",
       "    <tr style=\"text-align: right;\">\n",
       "      <th></th>\n",
       "      <th>utilization</th>\n",
       "      <th>numMonitors</th>\n",
       "      <th>isDesktop</th>\n",
       "      <th>inQuietArea</th>\n",
       "    </tr>\n",
       "  </thead>\n",
       "  <tbody>\n",
       "    <tr>\n",
       "      <th>utilization</th>\n",
       "      <td>1.000000</td>\n",
       "      <td>0.307720</td>\n",
       "      <td>0.341640</td>\n",
       "      <td>0.129919</td>\n",
       "    </tr>\n",
       "    <tr>\n",
       "      <th>numMonitors</th>\n",
       "      <td>0.307720</td>\n",
       "      <td>1.000000</td>\n",
       "      <td>0.442311</td>\n",
       "      <td>-0.054139</td>\n",
       "    </tr>\n",
       "    <tr>\n",
       "      <th>isDesktop</th>\n",
       "      <td>0.341640</td>\n",
       "      <td>0.442311</td>\n",
       "      <td>1.000000</td>\n",
       "      <td>0.121268</td>\n",
       "    </tr>\n",
       "    <tr>\n",
       "      <th>inQuietArea</th>\n",
       "      <td>0.129919</td>\n",
       "      <td>-0.054139</td>\n",
       "      <td>0.121268</td>\n",
       "      <td>1.000000</td>\n",
       "    </tr>\n",
       "  </tbody>\n",
       "</table>\n",
       "</div>"
      ],
      "text/plain": [
       "             utilization  numMonitors  isDesktop  inQuietArea\n",
       "utilization     1.000000     0.307720   0.341640     0.129919\n",
       "numMonitors     0.307720     1.000000   0.442311    -0.054139\n",
       "isDesktop       0.341640     0.442311   1.000000     0.121268\n",
       "inQuietArea     0.129919    -0.054139   0.121268     1.000000"
      ]
     },
     "execution_count": 125,
     "metadata": {},
     "output_type": "execute_result"
    }
   ],
   "source": [
    "attData[['utilization','numMonitors', 'isDesktop', 'inQuietArea']].corr()"
   ]
  },
  {
   "cell_type": "code",
   "execution_count": 127,
   "metadata": {},
   "outputs": [
    {
     "data": {
      "text/plain": [
       "Intercept      2.198443\n",
       "numMonitors    4.425756\n",
       "isDesktop      5.780296\n",
       "inQuietArea    5.835003\n",
       "dtype: float64"
      ]
     },
     "execution_count": 127,
     "metadata": {},
     "output_type": "execute_result"
    }
   ],
   "source": [
    "# used features above (greatest correlation values) for the model\n",
    "lm = smf.ols(formula='utilization ~ numMonitors + isDesktop + inQuietArea', data=attData).fit()\n",
    "lm.params"
   ]
  },
  {
   "cell_type": "code",
   "execution_count": 128,
   "metadata": {},
   "outputs": [
    {
     "data": {
      "text/html": [
       "<table class=\"simpletable\">\n",
       "<caption>OLS Regression Results</caption>\n",
       "<tr>\n",
       "  <th>Dep. Variable:</th>       <td>utilization</td>   <th>  R-squared:         </th> <td>   0.161</td>\n",
       "</tr>\n",
       "<tr>\n",
       "  <th>Model:</th>                   <td>OLS</td>       <th>  Adj. R-squared:    </th> <td>   0.152</td>\n",
       "</tr>\n",
       "<tr>\n",
       "  <th>Method:</th>             <td>Least Squares</td>  <th>  F-statistic:       </th> <td>   17.92</td>\n",
       "</tr>\n",
       "<tr>\n",
       "  <th>Date:</th>             <td>Fri, 17 Nov 2017</td> <th>  Prob (F-statistic):</th> <td>1.15e-10</td>\n",
       "</tr>\n",
       "<tr>\n",
       "  <th>Time:</th>                 <td>16:21:28</td>     <th>  Log-Likelihood:    </th> <td> -1044.9</td>\n",
       "</tr>\n",
       "<tr>\n",
       "  <th>No. Observations:</th>      <td>   284</td>      <th>  AIC:               </th> <td>   2098.</td>\n",
       "</tr>\n",
       "<tr>\n",
       "  <th>Df Residuals:</th>          <td>   280</td>      <th>  BIC:               </th> <td>   2112.</td>\n",
       "</tr>\n",
       "<tr>\n",
       "  <th>Df Model:</th>              <td>     3</td>      <th>                     </th>     <td> </td>   \n",
       "</tr>\n",
       "<tr>\n",
       "  <th>Covariance Type:</th>      <td>nonrobust</td>    <th>                     </th>     <td> </td>   \n",
       "</tr>\n",
       "</table>\n",
       "<table class=\"simpletable\">\n",
       "<tr>\n",
       "       <td></td>          <th>coef</th>     <th>std err</th>      <th>t</th>      <th>P>|t|</th>  <th>[0.025</th>    <th>0.975]</th>  \n",
       "</tr>\n",
       "<tr>\n",
       "  <th>Intercept</th>   <td>    2.1984</td> <td>    1.739</td> <td>    1.264</td> <td> 0.207</td> <td>   -1.225</td> <td>    5.622</td>\n",
       "</tr>\n",
       "<tr>\n",
       "  <th>numMonitors</th> <td>    4.4258</td> <td>    1.308</td> <td>    3.383</td> <td> 0.001</td> <td>    1.850</td> <td>    7.001</td>\n",
       "</tr>\n",
       "<tr>\n",
       "  <th>isDesktop</th>   <td>    5.7803</td> <td>    1.495</td> <td>    3.867</td> <td> 0.000</td> <td>    2.838</td> <td>    8.723</td>\n",
       "</tr>\n",
       "<tr>\n",
       "  <th>inQuietArea</th> <td>    5.8350</td> <td>    2.890</td> <td>    2.019</td> <td> 0.044</td> <td>    0.147</td> <td>   11.523</td>\n",
       "</tr>\n",
       "</table>\n",
       "<table class=\"simpletable\">\n",
       "<tr>\n",
       "  <th>Omnibus:</th>       <td>103.833</td> <th>  Durbin-Watson:     </th> <td>   0.885</td>\n",
       "</tr>\n",
       "<tr>\n",
       "  <th>Prob(Omnibus):</th> <td> 0.000</td>  <th>  Jarque-Bera (JB):  </th> <td> 453.815</td>\n",
       "</tr>\n",
       "<tr>\n",
       "  <th>Skew:</th>          <td> 1.471</td>  <th>  Prob(JB):          </th> <td>2.85e-99</td>\n",
       "</tr>\n",
       "<tr>\n",
       "  <th>Kurtosis:</th>      <td> 8.449</td>  <th>  Cond. No.          </th> <td>    9.79</td>\n",
       "</tr>\n",
       "</table>"
      ],
      "text/plain": [
       "<class 'statsmodels.iolib.summary.Summary'>\n",
       "\"\"\"\n",
       "                            OLS Regression Results                            \n",
       "==============================================================================\n",
       "Dep. Variable:            utilization   R-squared:                       0.161\n",
       "Model:                            OLS   Adj. R-squared:                  0.152\n",
       "Method:                 Least Squares   F-statistic:                     17.92\n",
       "Date:                Fri, 17 Nov 2017   Prob (F-statistic):           1.15e-10\n",
       "Time:                        16:21:28   Log-Likelihood:                -1044.9\n",
       "No. Observations:                 284   AIC:                             2098.\n",
       "Df Residuals:                     280   BIC:                             2112.\n",
       "Df Model:                           3                                         \n",
       "Covariance Type:            nonrobust                                         \n",
       "===============================================================================\n",
       "                  coef    std err          t      P>|t|      [0.025      0.975]\n",
       "-------------------------------------------------------------------------------\n",
       "Intercept       2.1984      1.739      1.264      0.207      -1.225       5.622\n",
       "numMonitors     4.4258      1.308      3.383      0.001       1.850       7.001\n",
       "isDesktop       5.7803      1.495      3.867      0.000       2.838       8.723\n",
       "inQuietArea     5.8350      2.890      2.019      0.044       0.147      11.523\n",
       "==============================================================================\n",
       "Omnibus:                      103.833   Durbin-Watson:                   0.885\n",
       "Prob(Omnibus):                  0.000   Jarque-Bera (JB):              453.815\n",
       "Skew:                           1.471   Prob(JB):                     2.85e-99\n",
       "Kurtosis:                       8.449   Cond. No.                         9.79\n",
       "==============================================================================\n",
       "\n",
       "Warnings:\n",
       "[1] Standard Errors assume that the covariance matrix of the errors is correctly specified.\n",
       "\"\"\""
      ]
     },
     "execution_count": 128,
     "metadata": {},
     "output_type": "execute_result"
    }
   ],
   "source": [
    "lm.summary()"
   ]
  },
  {
   "cell_type": "markdown",
   "metadata": {},
   "source": [
    "### With these p-values still below .05, I am able to reject the null hypothesis with this model."
   ]
  }
 ],
 "metadata": {
  "kernelspec": {
   "display_name": "Python 2",
   "language": "python",
   "name": "python2"
  },
  "language_info": {
   "codemirror_mode": {
    "name": "ipython",
    "version": 2
   },
   "file_extension": ".py",
   "mimetype": "text/x-python",
   "name": "python",
   "nbconvert_exporter": "python",
   "pygments_lexer": "ipython2",
   "version": "2.7.9"
  }
 },
 "nbformat": 4,
 "nbformat_minor": 2
}
