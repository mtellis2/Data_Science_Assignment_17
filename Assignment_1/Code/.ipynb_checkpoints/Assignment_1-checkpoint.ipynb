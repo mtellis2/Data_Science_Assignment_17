{
 "cells": [
  {
   "cell_type": "markdown",
   "metadata": {},
   "source": [
    "## Assignment 1\n",
    "The goal of this assignment is to create a ipython notebook of a random team generator based on the .tsv file. The program should be able to generate teams based on the number of teams provided as a variable. "
   ]
  },
  {
   "cell_type": "markdown",
   "metadata": {},
   "source": [
    "This cell is reading the .tsv file into a list. Then removing the first row (Student and Hash_id) and second column."
   ]
  },
  {
   "cell_type": "code",
   "execution_count": null,
   "metadata": {},
   "outputs": [],
   "source": [
    "import csv\n",
    "with open('/Users/moyockmike/Envs/CSC693/Data_Science_Assignment_17/Assignment_1/Data/students.tsv', 'rb') as f:\n",
    "    reader = csv.reader(f, delimiter='\\t')\n",
    "    next(reader)\n",
    "    roster = list(reader)\n",
    "    for row in roster:\n",
    "        del row[1]\n",
    "    #print roster"
   ]
  },
  {
   "cell_type": "markdown",
   "metadata": {},
   "source": [
    "This cell creates the variable that determines the number of teams."
   ]
  },
  {
   "cell_type": "code",
   "execution_count": null,
   "metadata": {
    "collapsed": true
   },
   "outputs": [],
   "source": [
    "numTeams = 3"
   ]
  },
  {
   "cell_type": "markdown",
   "metadata": {},
   "source": [
    "This cell creates the function that picks the teams. This is done by taking in a list and the integer for the number of teams needed. The number of players is calculated by dividing the number of students by the number of teams integer. \n"
   ]
  },
  {
   "cell_type": "code",
   "execution_count": null,
   "metadata": {
    "collapsed": true
   },
   "outputs": [],
   "source": [
    "def pickTeams(lst, n): \n",
    "    numPlayers = len(lst) / float(n) \n",
    "    return [ lst[int(round(numPlayers * i)): int(round(numPlayers * (i + 1)))] for i in xrange(n) ]"
   ]
  },
  {
   "cell_type": "markdown",
   "metadata": {},
   "source": [
    "This cell shuffles the roster so that the teams are randomly populated, then runs the pickTeams function by sending the roster list and numTeams variable as parameters."
   ]
  },
  {
   "cell_type": "code",
   "execution_count": null,
   "metadata": {},
   "outputs": [],
   "source": [
    "import random\n",
    "random.shuffle(roster)\n",
    "teams = pickTeams(roster, numTeams)\n",
    "for i in range(numTeams):\n",
    "    print teams[i] \n",
    "    print '\\n'"
   ]
  }
 ],
 "metadata": {
  "kernelspec": {
   "display_name": "Python 2",
   "language": "python",
   "name": "python2"
  },
  "language_info": {
   "codemirror_mode": {
    "name": "ipython",
    "version": 2
   },
   "file_extension": ".py",
   "mimetype": "text/x-python",
   "name": "python",
   "nbconvert_exporter": "python",
   "pygments_lexer": "ipython2",
   "version": "2.7.9"
  }
 },
 "nbformat": 4,
 "nbformat_minor": 2
}
